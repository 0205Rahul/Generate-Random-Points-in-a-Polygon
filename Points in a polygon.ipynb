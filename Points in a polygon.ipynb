{
 "cells": [
  {
   "cell_type": "code",
   "execution_count": 1,
   "outputs": [
    {
     "name": "stdout",
     "output_type": "stream",
     "text": [
      "Requirement already satisfied: shapely in c:\\users\\kiit\\.conda\\envs\\pythonproject\\lib\\site-packages (2.0.0)\n",
      "Requirement already satisfied: numpy>=1.14 in c:\\users\\kiit\\.conda\\envs\\pythonproject\\lib\\site-packages (from shapely) (1.24.1)\n",
      "Note: you may need to restart the kernel to use updated packages.\n"
     ]
    }
   ],
   "source": [
    "pip install shapely"
   ],
   "metadata": {
    "collapsed": false
   }
  },
  {
   "cell_type": "code",
   "execution_count": 2,
   "outputs": [],
   "source": [
    "import pandas as pd\n",
    "from shapely.geometry import Point"
   ],
   "metadata": {
    "collapsed": false
   }
  },
  {
   "cell_type": "code",
   "execution_count": 3,
   "outputs": [
    {
     "name": "stdout",
     "output_type": "stream",
     "text": [
      "Requirement already satisfied: point in c:\\users\\kiit\\.conda\\envs\\pythonproject\\lib\\site-packages (0.0.1)\n",
      "Requirement already satisfied: six==1.11.0 in c:\\users\\kiit\\.conda\\envs\\pythonproject\\lib\\site-packages (from point) (1.11.0)\n",
      "Note: you may need to restart the kernel to use updated packages.\n"
     ]
    }
   ],
   "source": [
    "pip install point"
   ],
   "metadata": {
    "collapsed": false
   }
  },
  {
   "cell_type": "code",
   "execution_count": 5,
   "metadata": {},
   "outputs": [],
   "source": [
    "def Random_Points_in_Polygon(polygon, number):\n",
    "    points = []\n",
    "    minx, miny, maxx, maxy = polygon.bounds\n",
    "    while len(points) < number:\n",
    "        pnt = Point(np.random.uniform(minx, maxx), np.random.uniform(miny, maxy))\n",
    "        if polygon.contains(pnt):\n",
    "            points.append(pnt)\n",
    "    return points"
   ]
  },
  {
   "cell_type": "code",
   "execution_count": 8,
   "metadata": {},
   "outputs": [
    {
     "ename": "NameError",
     "evalue": "name 'Polygon' is not defined",
     "output_type": "error",
     "traceback": [
      "\u001B[1;31m---------------------------------------------------------------------------\u001B[0m",
      "\u001B[1;31mNameError\u001B[0m                                 Traceback (most recent call last)",
      "Cell \u001B[1;32mIn[8], line 1\u001B[0m\n\u001B[1;32m----> 1\u001B[0m polygon \u001B[38;5;241m=\u001B[39m \u001B[43mPolygon\u001B[49m([[\u001B[38;5;241m0\u001B[39m,\u001B[38;5;241m0\u001B[39m],[\u001B[38;5;241m0\u001B[39m,\u001B[38;5;241m2\u001B[39m],[\u001B[38;5;241m1.5\u001B[39m,\u001B[38;5;241m1\u001B[39m],[\u001B[38;5;241m0.5\u001B[39m,\u001B[38;5;241m-\u001B[39m\u001B[38;5;241m0.5\u001B[39m],[\u001B[38;5;241m0\u001B[39m,\u001B[38;5;241m0\u001B[39m]])\n\u001B[0;32m      2\u001B[0m points \u001B[38;5;241m=\u001B[39m Random_Points_in_Polygon(polygon, \u001B[38;5;241m100\u001B[39m)\n",
      "\u001B[1;31mNameError\u001B[0m: name 'Polygon' is not defined"
     ]
    }
   ],
   "source": [
    "polygon = Polygon([[0,0],[0,2],[1.5,1],[0.5,-0.5],[0,0]])\n",
    "points = Random_Points_in_Polygon(polygon, 100)"
   ]
  },
  {
   "cell_type": "code",
   "execution_count": null,
   "metadata": {},
   "outputs": [],
   "source": []
  }
 ],
 "metadata": {
  "kernelspec": {
   "display_name": "Python 3 (ipykernel)",
   "language": "python",
   "name": "python3"
  },
  "language_info": {
   "codemirror_mode": {
    "name": "ipython",
    "version": 3
   },
   "file_extension": ".py",
   "mimetype": "text/x-python",
   "name": "python",
   "nbconvert_exporter": "python",
   "pygments_lexer": "ipython3",
   "version": "3.9.12"
  }
 },
 "nbformat": 4,
 "nbformat_minor": 1
}
